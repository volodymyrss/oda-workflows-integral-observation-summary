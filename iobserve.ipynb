{
 "cells": [
  {
   "cell_type": "code",
   "execution_count": null,
   "metadata": {},
   "outputs": [],
   "source": [
    "%matplotlib notebook\n",
    "\n",
    "from matplotlib import pylab\n",
    "from astropy.coordinates import SkyCoord\n",
    "import integralclient as ic\n",
    "\n",
    "import time\n",
    "import numpy as np\n",
    "\n",
    "from astropy.table import Table, vstack\n",
    "from astropy.io import fits\n",
    "import glob\n"
   ]
  },
  {
   "cell_type": "code",
   "execution_count": null,
   "metadata": {
    "tags": [
     "parameters"
    ]
   },
   "outputs": [],
   "source": [
    "RA=40.669879\n",
    "Dec=-0.013289\n",
    "tstart_rel_mdays=10\n",
    "tstop_rel_days=10\n",
    "t0_utc=\"2018-12-01T02:38:00\"\n",
    "cons=1\n",
    "nrt=1"
   ]
  },
  {
   "cell_type": "code",
   "execution_count": null,
   "metadata": {},
   "outputs": [],
   "source": [
    "source_coord = SkyCoord(RA, Dec, unit = \"deg\")"
   ]
  },
  {
   "cell_type": "code",
   "execution_count": null,
   "metadata": {},
   "outputs": [],
   "source": [
    "#arc_root_prefix=\"/mnt/sshfs/isdc/\"\n",
    "arc_root_prefix=\"/\""
   ]
  },
  {
   "cell_type": "code",
   "execution_count": null,
   "metadata": {},
   "outputs": [],
   "source": [
    "\n",
    "tables=[]\n",
    "\n",
    "if cons == 1:\n",
    "    tables.append(Table.read(fits.open(arc_root_prefix+\"/isdc/arc/rev_3/idx/scw/GNRL-SCWG-GRP-IDX.fits\")))\n",
    "\n",
    "if nrt == 1:\n",
    "    tables.append(Table.read(fits.open(sorted(glob.glob(arc_root_prefix+\"/isdc/pvphase/nrt/ops/idx/scw/GNRL-SCWG-GRP-IDX_*\"))[-1])[1]))\n",
    "    \n",
    "print(len(tables))\n",
    "    \n",
    "scwd = vstack(tables)"
   ]
  },
  {
   "cell_type": "code",
   "execution_count": null,
   "metadata": {},
   "outputs": [],
   "source": [
    "now_ijd = float(ic.converttime(\"UTC\",time.strftime(\"%Y-%m-%dT%H:%M:%S\"),\"IJD\"))\n",
    "t0_ijd =  float(ic.converttime(\"UTC\",t0_utc,\"IJD\"))\n",
    "\n",
    "tstart_ijd = t0_ijd - tstart_rel_mdays\n",
    "tstop_ijd = t0_ijd + tstop_rel_days\n",
    "\n",
    "now_ijd, t0_ijd, tstart_ijd, tstop_ijd"
   ]
  },
  {
   "cell_type": "code",
   "execution_count": null,
   "metadata": {},
   "outputs": [],
   "source": [
    "print(scwd['TSTART'].min(), scwd['TSTOP'].max(),tstart_ijd)\n",
    "\n",
    "scwd=scwd[(scwd['TSTART'] > tstart_ijd) & (scwd['TSTART'] < tstop_ijd)]\n"
   ]
  },
  {
   "cell_type": "code",
   "execution_count": null,
   "metadata": {},
   "outputs": [],
   "source": [
    "m_point = np.array(list(map(str.strip,scwd['SW_TYPE']))) == \"POINTING\"\n",
    "scwd=scwd[m_point]\n",
    "\n",
    "scx=SkyCoord(scwd['RA_SCX'],scwd['DEC_SCX'],unit=\"deg\")\n",
    "\n",
    "offaxis=  scx.separation(source_coord) "
   ]
  },
  {
   "cell_type": "code",
   "execution_count": null,
   "metadata": {},
   "outputs": [],
   "source": [
    "pylab.figure(figsize=(8,6))\n",
    "pylab.step(\n",
    "    (scwd['TSTART']-t0_ijd)*24,\n",
    "    offaxis.deg,\n",
    "    #width=scwd['TELAPSE']/24./3600*24,\n",
    "    \n",
    ")\n",
    "#tight_layout()\n",
    "pylab.grid()\n",
    "#pylab.xlim(-5*24,3*24)\n",
    "pylab.axhspan(0,10,alpha=0.2,color=\"red\")\n",
    "pylab.axhspan(10,15,alpha=0.2,color=\"green\")\n",
    "pylab.axhspan(15,20,alpha=0.2,color=\"blue\")\n",
    "pylab.ylabel(\"off-axis angle, deg\")\n",
    "#ylim([0,50])\n",
    "pylab.xlabel(\"hours since %.15lg (%s)\"%(t0_ijd, t0_utc))\n",
    "\n",
    "mon=(scx.separation(source_coord).degree<10) #& (scwd['TSTART']>frb_t0_ijd-5.)\n",
    "\n",
    "\n",
    "print(sum(mon),sum(scwd['TELAPSE'][mon]))\n",
    "\n",
    "pylab.savefig(\"ohistory.png\")"
   ]
  },
  {
   "cell_type": "code",
   "execution_count": null,
   "metadata": {},
   "outputs": [],
   "source": [
    "pylab.figure(figsize=(8,6))\n",
    "pylab.hist(offaxis.deg)\n",
    "pylab.grid()\n",
    "pylab.xlabel(\"off-axis angle, deg\")\n",
    "#ylim([0,50])\n",
    "\n",
    "mon=(scx.separation(source_coord).degree<10) #& (scwd['TSTART']>frb_t0_ijd-5.)\n",
    "\n",
    "\n",
    "print(sum(mon),sum(scwd['TELAPSE'][mon]))\n",
    "\n",
    "pylab.savefig(\"ohist.png\")"
   ]
  },
  {
   "cell_type": "code",
   "execution_count": null,
   "metadata": {
    "tags": [
     "outputs"
    ]
   },
   "outputs": [],
   "source": [
    "history_png=\"ohistory.png\" # smth\n",
    "hist_png=\"ohist.png\" # smth else"
   ]
  },
  {
   "cell_type": "code",
   "execution_count": null,
   "metadata": {},
   "outputs": [],
   "source": []
  }
 ],
 "metadata": {
  "celltoolbar": "Tags",
  "kernelspec": {
   "display_name": "Python 3",
   "language": "python",
   "name": "python3"
  },
  "language_info": {
   "codemirror_mode": {
    "name": "ipython",
    "version": 3
   },
   "file_extension": ".py",
   "mimetype": "text/x-python",
   "name": "python",
   "nbconvert_exporter": "python",
   "pygments_lexer": "ipython3",
   "version": "3.6.7"
  }
 },
 "nbformat": 4,
 "nbformat_minor": 2
}
